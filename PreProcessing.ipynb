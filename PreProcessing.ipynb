{
 "cells": [
  {
   "cell_type": "code",
   "execution_count": 35,
   "metadata": {},
   "outputs": [
    {
     "name": "stdout",
     "output_type": "stream",
     "text": [
      "['c7', 'c0', 'c9', 'c8', 'c1', 'c6', 'c3', 'c4', 'c5', 'c2']\n"
     ]
    }
   ],
   "source": [
    "import numpy as np \n",
    "import matplotlib.pyplot as plt \n",
    "import os \n",
    "import cv2\n",
    "import glob\n",
    "\n",
    "categories_path = glob.glob(\"/Users/akshaya/Desktop/Final_project/state-farm-distracted-driver-detection/imgs/train/c*\")\n",
    "new= [x[-2:] for x in categories_path]\n",
    "print(new)"
   ]
  },
  {
   "cell_type": "code",
   "execution_count": 36,
   "metadata": {},
   "outputs": [],
   "source": [
    "def create_training_data(categories_path,new):\n",
    "    i=0\n",
    "    training_data = []\n",
    "    for path in categories_path:\n",
    "        class_num= i\n",
    "        for img in os.listdir(path):\n",
    "            img_array = cv2.imread(os.path.join(path,img),cv2.IMREAD_GRAYSCALE) # RGB consumes 3x more data\n",
    "            h = int(img_array.shape[0]*0.6)\n",
    "            w = int(img_array.shape[1]*0.6)\n",
    "            new_array = cv2.resize(img_array,(h,w))\n",
    "            training_data.append([new_array,new[class_num]])\n",
    "        i+=1\n",
    "    return training_data"
   ]
  },
  {
   "cell_type": "code",
   "execution_count": 37,
   "metadata": {},
   "outputs": [],
   "source": [
    "training_data = create_training_data(categories_path,new)"
   ]
  },
  {
   "cell_type": "code",
   "execution_count": 39,
   "metadata": {},
   "outputs": [
    {
     "name": "stdout",
     "output_type": "stream",
     "text": [
      "[array([[ 32,  32,  32, ..., 179, 179, 232],\n",
      "       [ 34,  34,  34, ..., 167, 156, 234],\n",
      "       [ 35,  35,  35, ..., 164, 197, 241],\n",
      "       ...,\n",
      "       [ 60,  62,  63, ...,  14,  19,  14],\n",
      "       [ 61,  62,  64, ...,  16,  22,  13],\n",
      "       [ 61,  63,  64, ...,  17,  24,  12]], dtype=uint8), 'c0']\n"
     ]
    }
   ],
   "source": [
    "print(training_data[2003])"
   ]
  },
  {
   "cell_type": "code",
   "execution_count": null,
   "metadata": {},
   "outputs": [],
   "source": []
  },
  {
   "cell_type": "code",
   "execution_count": null,
   "metadata": {},
   "outputs": [],
   "source": []
  }
 ],
 "metadata": {
  "kernelspec": {
   "display_name": "Python 3",
   "language": "python",
   "name": "python3"
  },
  "language_info": {
   "codemirror_mode": {
    "name": "ipython",
    "version": 3
   },
   "file_extension": ".py",
   "mimetype": "text/x-python",
   "name": "python",
   "nbconvert_exporter": "python",
   "pygments_lexer": "ipython3",
   "version": "3.7.6"
  }
 },
 "nbformat": 4,
 "nbformat_minor": 4
}
